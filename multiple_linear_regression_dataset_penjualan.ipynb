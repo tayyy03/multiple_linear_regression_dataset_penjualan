{
  "cells": [
    {
      "cell_type": "code",
      "execution_count": null,
      "id": "307d97a5",
      "metadata": {
        "_cell_guid": "b1076dfc-b9ad-4769-8c92-a6c4dae69d19",
        "_uuid": "8f2839f25d086af736a60e9eeb907d3b93b6e0e5",
        "execution": {
          "iopub.execute_input": "2021-09-16T13:09:55.632241Z",
          "iopub.status.busy": "2021-09-16T13:09:55.630436Z",
          "iopub.status.idle": "2021-09-16T13:09:55.654644Z",
          "shell.execute_reply": "2021-09-16T13:09:55.653876Z",
          "shell.execute_reply.started": "2021-09-16T12:08:23.909666Z"
        },
        "papermill": {
          "duration": 0.057591,
          "end_time": "2021-09-16T13:09:55.654832",
          "exception": false,
          "start_time": "2021-09-16T13:09:55.597241",
          "status": "completed"
        },
        "tags": [],
        "id": "307d97a5",
        "outputId": "b45424d5-e7fb-429d-b32e-3239c653a7c5"
      },
      "outputs": [
        {
          "name": "stdout",
          "output_type": "stream",
          "text": [
            "/kaggle/input/dataset-penjualan/Dataset.xlsx\n"
          ]
        }
      ],
      "source": [
        "# This Python 3 environment comes with many helpful analytics libraries installed\n",
        "# It is defined by the kaggle/python Docker image: https://github.com/kaggle/docker-python\n",
        "# For example, here's several helpful packages to load\n",
        "\n",
        "import numpy as np # linear algebra\n",
        "import pandas as pd # data processing, CSV file I/O (e.g. pd.read_csv)\n",
        "\n",
        "# Input data files are available in the read-only \"../input/\" directory\n",
        "# For example, running this (by clicking run or pressing Shift+Enter) will list all files under the input directory\n",
        "\n",
        "import os\n",
        "for dirname, _, filenames in os.walk('/kaggle/input'):\n",
        "    for filename in filenames:\n",
        "        print(os.path.join(dirname, filename))\n",
        "\n",
        "# You can write up to 20GB to the current directory (/kaggle/working/) that gets preserved as output when you create a version using \"Save & Run All\"\n",
        "\n",
        "# You can also write temporary files to /kaggle/temp/, but they won't be saved outside of the current session"
      ]
    },
    {
      "cell_type": "markdown",
      "id": "ffb5789f",
      "metadata": {
        "papermill": {
          "duration": 0.02679,
          "end_time": "2021-09-16T13:09:55.709330",
          "exception": false,
          "start_time": "2021-09-16T13:09:55.682540",
          "status": "completed"
        },
        "tags": [],
        "id": "ffb5789f"
      },
      "source": [
        "Karena data penjualan ini memiliki kolom lebih dari dari 2, jadi bisa dikatakan memiliki variabel independent lebih dari satu.\n",
        "atau data tidak bisa dimodelkan secara simple regresi linear. tapi butuh dimodelkan secara Multiple Linear Regression.\n",
        "\n",
        "Persamaan dari Multiple Linear Regression sebagai berikut :\n",
        "\n",
        "Y = b + e + m1*x1 + m2*x2 + … + mn*xn\n",
        "\n",
        "Y = dependent variable\n",
        "\n",
        "mn = koefisien dari persamaan\n",
        "\n",
        "xn = independent variable\n",
        "\n",
        "b = intercept\n",
        "\n",
        "e = error\n",
        "\n",
        "Perbedaan dengan Simple Linear Regression hanyalah jumlah independent variable (x). Di Multiple Linear Regression terdapat lebih dari 1. Tapi tujuan dari kedua metode tersebut adalah sama yaitu untuk memprediksi nilai dari Y."
      ]
    },
    {
      "cell_type": "code",
      "execution_count": null,
      "id": "80808cd4",
      "metadata": {
        "execution": {
          "iopub.execute_input": "2021-09-16T13:09:55.768883Z",
          "iopub.status.busy": "2021-09-16T13:09:55.768095Z",
          "iopub.status.idle": "2021-09-16T13:09:57.025040Z",
          "shell.execute_reply": "2021-09-16T13:09:57.024465Z",
          "shell.execute_reply.started": "2021-09-16T12:05:48.434271Z"
        },
        "papermill": {
          "duration": 1.289144,
          "end_time": "2021-09-16T13:09:57.025200",
          "exception": false,
          "start_time": "2021-09-16T13:09:55.736056",
          "status": "completed"
        },
        "tags": [],
        "id": "80808cd4"
      },
      "outputs": [],
      "source": [
        "#library untuk data analysis tools.\n",
        "import pandas as pd\n",
        "import numpy as np\n",
        "\n",
        "#library untuk visualisasi data.\n",
        "import matplotlib.pyplot as plt\n",
        "import seaborn as sns\n",
        "\n",
        "from sklearn.linear_model import LinearRegression\n",
        "from sklearn.model_selection import train_test_split"
      ]
    },
    {
      "cell_type": "markdown",
      "id": "8e110cba",
      "metadata": {
        "papermill": {
          "duration": 0.02717,
          "end_time": "2021-09-16T13:09:57.081472",
          "exception": false,
          "start_time": "2021-09-16T13:09:57.054302",
          "status": "completed"
        },
        "tags": [],
        "id": "8e110cba"
      },
      "source": [
        "karena jupyter notebook belum pernah terinstall library untuk membuka data .xlsx\n",
        "maka perlu diinstall dulu"
      ]
    },
    {
      "cell_type": "code",
      "execution_count": null,
      "id": "678846a0",
      "metadata": {
        "execution": {
          "iopub.execute_input": "2021-09-16T13:09:57.153246Z",
          "iopub.status.busy": "2021-09-16T13:09:57.140282Z",
          "iopub.status.idle": "2021-09-16T13:10:07.398508Z",
          "shell.execute_reply": "2021-09-16T13:10:07.399115Z",
          "shell.execute_reply.started": "2021-09-16T12:17:09.392750Z"
        },
        "papermill": {
          "duration": 10.291276,
          "end_time": "2021-09-16T13:10:07.399310",
          "exception": false,
          "start_time": "2021-09-16T13:09:57.108034",
          "status": "completed"
        },
        "tags": [],
        "id": "678846a0",
        "outputId": "0878bab0-5a5c-4604-9e02-c90a9442ce87"
      },
      "outputs": [
        {
          "name": "stdout",
          "output_type": "stream",
          "text": [
            "Collecting openpyxl\r\n",
            "  Downloading openpyxl-3.0.8-py2.py3-none-any.whl (244 kB)\r\n",
            "\u001b[K     |████████████████████████████████| 244 kB 4.3 MB/s \r\n",
            "\u001b[?25hCollecting et-xmlfile\r\n",
            "  Downloading et_xmlfile-1.1.0-py3-none-any.whl (4.7 kB)\r\n",
            "Installing collected packages: et-xmlfile, openpyxl\r\n",
            "Successfully installed et-xmlfile-1.1.0 openpyxl-3.0.8\r\n",
            "\u001b[33mWARNING: Running pip as the 'root' user can result in broken permissions and conflicting behaviour with the system package manager. It is recommended to use a virtual environment instead: https://pip.pypa.io/warnings/venv\u001b[0m\r\n"
          ]
        }
      ],
      "source": [
        "#install library untuk membuka data dalam bentuk xlsx\n",
        "!pip install openpyxl"
      ]
    },
    {
      "cell_type": "code",
      "execution_count": null,
      "id": "eb6b2493",
      "metadata": {
        "execution": {
          "iopub.execute_input": "2021-09-16T13:10:07.464036Z",
          "iopub.status.busy": "2021-09-16T13:10:07.463293Z",
          "iopub.status.idle": "2021-09-16T13:10:07.862855Z",
          "shell.execute_reply": "2021-09-16T13:10:07.863359Z",
          "shell.execute_reply.started": "2021-09-16T12:18:05.406255Z"
        },
        "papermill": {
          "duration": 0.434553,
          "end_time": "2021-09-16T13:10:07.863741",
          "exception": false,
          "start_time": "2021-09-16T13:10:07.429188",
          "status": "completed"
        },
        "tags": [],
        "id": "eb6b2493"
      },
      "outputs": [],
      "source": [
        "#proses pembacaan data atau import data\n",
        "\n",
        "df = pd.read_excel('/kaggle/input/dataset-penjualan/Dataset.xlsx')"
      ]
    },
    {
      "cell_type": "code",
      "execution_count": null,
      "id": "a2250e86",
      "metadata": {
        "execution": {
          "iopub.execute_input": "2021-09-16T13:10:07.936960Z",
          "iopub.status.busy": "2021-09-16T13:10:07.936075Z",
          "iopub.status.idle": "2021-09-16T13:10:07.952977Z",
          "shell.execute_reply": "2021-09-16T13:10:07.953529Z",
          "shell.execute_reply.started": "2021-09-16T12:18:08.129827Z"
        },
        "papermill": {
          "duration": 0.058232,
          "end_time": "2021-09-16T13:10:07.953699",
          "exception": false,
          "start_time": "2021-09-16T13:10:07.895467",
          "status": "completed"
        },
        "tags": [],
        "id": "a2250e86",
        "outputId": "9277affa-e695-45c5-8124-aa40e750f0a8"
      },
      "outputs": [
        {
          "data": {
            "text/html": [
              "<div>\n",
              "<style scoped>\n",
              "    .dataframe tbody tr th:only-of-type {\n",
              "        vertical-align: middle;\n",
              "    }\n",
              "\n",
              "    .dataframe tbody tr th {\n",
              "        vertical-align: top;\n",
              "    }\n",
              "\n",
              "    .dataframe thead th {\n",
              "        text-align: right;\n",
              "    }\n",
              "</style>\n",
              "<table border=\"1\" class=\"dataframe\">\n",
              "  <thead>\n",
              "    <tr style=\"text-align: right;\">\n",
              "      <th></th>\n",
              "      <th>Hari</th>\n",
              "      <th>Tanggal</th>\n",
              "      <th>Kegiatan</th>\n",
              "      <th>Curah Hujan (mm)</th>\n",
              "      <th>Penjualan (pcs)</th>\n",
              "    </tr>\n",
              "  </thead>\n",
              "  <tbody>\n",
              "    <tr>\n",
              "      <th>0</th>\n",
              "      <td>2</td>\n",
              "      <td>1</td>\n",
              "      <td>0</td>\n",
              "      <td>1.4</td>\n",
              "      <td>0</td>\n",
              "    </tr>\n",
              "    <tr>\n",
              "      <th>1</th>\n",
              "      <td>3</td>\n",
              "      <td>2</td>\n",
              "      <td>1</td>\n",
              "      <td>1.2</td>\n",
              "      <td>27</td>\n",
              "    </tr>\n",
              "    <tr>\n",
              "      <th>2</th>\n",
              "      <td>4</td>\n",
              "      <td>3</td>\n",
              "      <td>1</td>\n",
              "      <td>15.2</td>\n",
              "      <td>458</td>\n",
              "    </tr>\n",
              "    <tr>\n",
              "      <th>3</th>\n",
              "      <td>5</td>\n",
              "      <td>4</td>\n",
              "      <td>1</td>\n",
              "      <td>13.4</td>\n",
              "      <td>20</td>\n",
              "    </tr>\n",
              "    <tr>\n",
              "      <th>4</th>\n",
              "      <td>6</td>\n",
              "      <td>5</td>\n",
              "      <td>1</td>\n",
              "      <td>7.7</td>\n",
              "      <td>7</td>\n",
              "    </tr>\n",
              "  </tbody>\n",
              "</table>\n",
              "</div>"
            ],
            "text/plain": [
              "   Hari  Tanggal  Kegiatan  Curah Hujan (mm)  Penjualan (pcs)\n",
              "0     2        1         0               1.4                0\n",
              "1     3        2         1               1.2               27\n",
              "2     4        3         1              15.2              458\n",
              "3     5        4         1              13.4               20\n",
              "4     6        5         1               7.7                7"
            ]
          },
          "execution_count": 5,
          "metadata": {},
          "output_type": "execute_result"
        }
      ],
      "source": [
        "#Melihat 5 baris teratas dari data.\n",
        "#Independent variabel(x) adalah Tanggal, Kegiatan, Curah hujan, Penjualan.\n",
        "#Dependent variabel(y) adalah Penjualan.\n",
        "df.head()"
      ]
    },
    {
      "cell_type": "code",
      "execution_count": null,
      "id": "4c8743bb",
      "metadata": {
        "execution": {
          "iopub.execute_input": "2021-09-16T13:10:08.024341Z",
          "iopub.status.busy": "2021-09-16T13:10:08.023326Z",
          "iopub.status.idle": "2021-09-16T13:10:08.027863Z",
          "shell.execute_reply": "2021-09-16T13:10:08.027327Z",
          "shell.execute_reply.started": "2021-09-16T12:19:03.348085Z"
        },
        "papermill": {
          "duration": 0.045063,
          "end_time": "2021-09-16T13:10:08.028014",
          "exception": false,
          "start_time": "2021-09-16T13:10:07.982951",
          "status": "completed"
        },
        "tags": [],
        "id": "4c8743bb",
        "outputId": "a71742dd-223b-4ef0-c639-d54064f41fb3"
      },
      "outputs": [
        {
          "data": {
            "text/html": [
              "<div>\n",
              "<style scoped>\n",
              "    .dataframe tbody tr th:only-of-type {\n",
              "        vertical-align: middle;\n",
              "    }\n",
              "\n",
              "    .dataframe tbody tr th {\n",
              "        vertical-align: top;\n",
              "    }\n",
              "\n",
              "    .dataframe thead th {\n",
              "        text-align: right;\n",
              "    }\n",
              "</style>\n",
              "<table border=\"1\" class=\"dataframe\">\n",
              "  <thead>\n",
              "    <tr style=\"text-align: right;\">\n",
              "      <th></th>\n",
              "      <th>Hari</th>\n",
              "      <th>Tanggal</th>\n",
              "      <th>Kegiatan</th>\n",
              "      <th>Curah Hujan (mm)</th>\n",
              "      <th>Penjualan (pcs)</th>\n",
              "    </tr>\n",
              "  </thead>\n",
              "  <tbody>\n",
              "    <tr>\n",
              "      <th>116</th>\n",
              "      <td>4</td>\n",
              "      <td>4</td>\n",
              "      <td>1</td>\n",
              "      <td>2.2</td>\n",
              "      <td>430</td>\n",
              "    </tr>\n",
              "    <tr>\n",
              "      <th>117</th>\n",
              "      <td>5</td>\n",
              "      <td>5</td>\n",
              "      <td>1</td>\n",
              "      <td>0.5</td>\n",
              "      <td>208</td>\n",
              "    </tr>\n",
              "    <tr>\n",
              "      <th>118</th>\n",
              "      <td>6</td>\n",
              "      <td>6</td>\n",
              "      <td>1</td>\n",
              "      <td>33.4</td>\n",
              "      <td>200</td>\n",
              "    </tr>\n",
              "    <tr>\n",
              "      <th>119</th>\n",
              "      <td>0</td>\n",
              "      <td>7</td>\n",
              "      <td>0</td>\n",
              "      <td>0.0</td>\n",
              "      <td>0</td>\n",
              "    </tr>\n",
              "    <tr>\n",
              "      <th>120</th>\n",
              "      <td>1</td>\n",
              "      <td>8</td>\n",
              "      <td>1</td>\n",
              "      <td>0.0</td>\n",
              "      <td>143</td>\n",
              "    </tr>\n",
              "  </tbody>\n",
              "</table>\n",
              "</div>"
            ],
            "text/plain": [
              "     Hari  Tanggal  Kegiatan  Curah Hujan (mm)  Penjualan (pcs)\n",
              "116     4        4         1               2.2              430\n",
              "117     5        5         1               0.5              208\n",
              "118     6        6         1              33.4              200\n",
              "119     0        7         0               0.0                0\n",
              "120     1        8         1               0.0              143"
            ]
          },
          "execution_count": 6,
          "metadata": {},
          "output_type": "execute_result"
        }
      ],
      "source": [
        "#Melihat 5 baris terbawah dari data\n",
        "df.tail()"
      ]
    },
    {
      "cell_type": "markdown",
      "id": "1d5c526c",
      "metadata": {
        "papermill": {
          "duration": 0.030202,
          "end_time": "2021-09-16T13:10:08.089606",
          "exception": false,
          "start_time": "2021-09-16T13:10:08.059404",
          "status": "completed"
        },
        "tags": [],
        "id": "1d5c526c"
      },
      "source": [
        "Data yang diberikan oleh Pak budi adalah 5 kolom dan 121 baris, jadi perlu di cek ulang setelah proses import data"
      ]
    },
    {
      "cell_type": "code",
      "execution_count": null,
      "id": "1ed32c55",
      "metadata": {
        "execution": {
          "iopub.execute_input": "2021-09-16T13:10:08.157452Z",
          "iopub.status.busy": "2021-09-16T13:10:08.156786Z",
          "iopub.status.idle": "2021-09-16T13:10:08.159299Z",
          "shell.execute_reply": "2021-09-16T13:10:08.159810Z",
          "shell.execute_reply.started": "2021-09-16T12:26:16.793915Z"
        },
        "papermill": {
          "duration": 0.038926,
          "end_time": "2021-09-16T13:10:08.159978",
          "exception": false,
          "start_time": "2021-09-16T13:10:08.121052",
          "status": "completed"
        },
        "tags": [],
        "id": "1ed32c55",
        "outputId": "4c3a31f9-5054-4799-c233-915476eb3ad5"
      },
      "outputs": [
        {
          "data": {
            "text/plain": [
              "(121, 5)"
            ]
          },
          "execution_count": 7,
          "metadata": {},
          "output_type": "execute_result"
        }
      ],
      "source": [
        "#Mengecek jumlah kolom dan baris dari data.\n",
        "#Data awal mempunya 4 kolom (features) dengan 121 baris.\n",
        "df.shape"
      ]
    },
    {
      "cell_type": "markdown",
      "id": "d89e07ba",
      "metadata": {
        "papermill": {
          "duration": 0.030242,
          "end_time": "2021-09-16T13:10:08.221952",
          "exception": false,
          "start_time": "2021-09-16T13:10:08.191710",
          "status": "completed"
        },
        "tags": [],
        "id": "d89e07ba"
      },
      "source": [
        "cocok dengan data awal, (121,5) 121 baris dan 5 kolom\n",
        "\n",
        "setelah itu untuk Melihat informasi data mulai dari jumlah data, tipe data, memory yang digunakan dll. maka perlu dilakukan tinjauan data ulang"
      ]
    },
    {
      "cell_type": "code",
      "execution_count": null,
      "id": "e0dea6bb",
      "metadata": {
        "execution": {
          "iopub.execute_input": "2021-09-16T13:10:08.285533Z",
          "iopub.status.busy": "2021-09-16T13:10:08.284868Z",
          "iopub.status.idle": "2021-09-16T13:10:08.307650Z",
          "shell.execute_reply": "2021-09-16T13:10:08.308626Z",
          "shell.execute_reply.started": "2021-09-16T12:27:13.140921Z"
        },
        "papermill": {
          "duration": 0.05688,
          "end_time": "2021-09-16T13:10:08.308833",
          "exception": false,
          "start_time": "2021-09-16T13:10:08.251953",
          "status": "completed"
        },
        "tags": [],
        "id": "e0dea6bb",
        "outputId": "24b11540-6afe-43e4-92ed-1fad950d757c"
      },
      "outputs": [
        {
          "name": "stdout",
          "output_type": "stream",
          "text": [
            "<class 'pandas.core.frame.DataFrame'>\n",
            "RangeIndex: 121 entries, 0 to 120\n",
            "Data columns (total 5 columns):\n",
            " #   Column            Non-Null Count  Dtype  \n",
            "---  ------            --------------  -----  \n",
            " 0   Hari              121 non-null    int64  \n",
            " 1   Tanggal           121 non-null    int64  \n",
            " 2   Kegiatan          121 non-null    int64  \n",
            " 3   Curah Hujan (mm)  121 non-null    float64\n",
            " 4   Penjualan (pcs)   121 non-null    int64  \n",
            "dtypes: float64(1), int64(4)\n",
            "memory usage: 4.9 KB\n"
          ]
        }
      ],
      "source": [
        "df.info()"
      ]
    },
    {
      "cell_type": "markdown",
      "id": "277c47ad",
      "metadata": {
        "papermill": {
          "duration": 0.030724,
          "end_time": "2021-09-16T13:10:08.371468",
          "exception": false,
          "start_time": "2021-09-16T13:10:08.340744",
          "status": "completed"
        },
        "tags": [],
        "id": "277c47ad"
      },
      "source": [
        "dari tinjauan di atas terdapat data float dan juga data int"
      ]
    },
    {
      "cell_type": "code",
      "execution_count": null,
      "id": "d25885f1",
      "metadata": {
        "execution": {
          "iopub.execute_input": "2021-09-16T13:10:08.438181Z",
          "iopub.status.busy": "2021-09-16T13:10:08.437548Z",
          "iopub.status.idle": "2021-09-16T13:10:08.445550Z",
          "shell.execute_reply": "2021-09-16T13:10:08.444885Z",
          "shell.execute_reply.started": "2021-09-16T12:29:26.304648Z"
        },
        "papermill": {
          "duration": 0.041991,
          "end_time": "2021-09-16T13:10:08.445699",
          "exception": false,
          "start_time": "2021-09-16T13:10:08.403708",
          "status": "completed"
        },
        "tags": [],
        "id": "d25885f1",
        "outputId": "9c71c3a3-7ff1-42e8-b50b-683ffe90f0aa"
      },
      "outputs": [
        {
          "data": {
            "text/plain": [
              "Hari                  2.958678\n",
              "Tanggal              15.123967\n",
              "Kegiatan              0.818182\n",
              "Curah Hujan (mm)     14.259504\n",
              "Penjualan (pcs)     131.834711\n",
              "dtype: float64"
            ]
          },
          "execution_count": 9,
          "metadata": {},
          "output_type": "execute_result"
        }
      ],
      "source": [
        "#melihat rata-rata data\n",
        "df.mean()"
      ]
    },
    {
      "cell_type": "code",
      "execution_count": null,
      "id": "b7208b60",
      "metadata": {
        "execution": {
          "iopub.execute_input": "2021-09-16T13:10:08.517462Z",
          "iopub.status.busy": "2021-09-16T13:10:08.516734Z",
          "iopub.status.idle": "2021-09-16T13:10:08.539155Z",
          "shell.execute_reply": "2021-09-16T13:10:08.538456Z",
          "shell.execute_reply.started": "2021-09-16T12:29:57.826184Z"
        },
        "papermill": {
          "duration": 0.062735,
          "end_time": "2021-09-16T13:10:08.539306",
          "exception": false,
          "start_time": "2021-09-16T13:10:08.476571",
          "status": "completed"
        },
        "tags": [],
        "id": "b7208b60",
        "outputId": "a0ccb99a-8f24-4938-9bee-fd50875b7855"
      },
      "outputs": [
        {
          "data": {
            "text/html": [
              "<div>\n",
              "<style scoped>\n",
              "    .dataframe tbody tr th:only-of-type {\n",
              "        vertical-align: middle;\n",
              "    }\n",
              "\n",
              "    .dataframe tbody tr th {\n",
              "        vertical-align: top;\n",
              "    }\n",
              "\n",
              "    .dataframe thead th {\n",
              "        text-align: right;\n",
              "    }\n",
              "</style>\n",
              "<table border=\"1\" class=\"dataframe\">\n",
              "  <thead>\n",
              "    <tr style=\"text-align: right;\">\n",
              "      <th></th>\n",
              "      <th>Hari</th>\n",
              "      <th>Tanggal</th>\n",
              "      <th>Kegiatan</th>\n",
              "      <th>Curah Hujan (mm)</th>\n",
              "      <th>Penjualan (pcs)</th>\n",
              "    </tr>\n",
              "  </thead>\n",
              "  <tbody>\n",
              "    <tr>\n",
              "      <th>count</th>\n",
              "      <td>121.000000</td>\n",
              "      <td>121.000000</td>\n",
              "      <td>121.000000</td>\n",
              "      <td>121.000000</td>\n",
              "      <td>121.000000</td>\n",
              "    </tr>\n",
              "    <tr>\n",
              "      <th>mean</th>\n",
              "      <td>2.958678</td>\n",
              "      <td>15.123967</td>\n",
              "      <td>0.818182</td>\n",
              "      <td>14.259504</td>\n",
              "      <td>131.834711</td>\n",
              "    </tr>\n",
              "    <tr>\n",
              "      <th>std</th>\n",
              "      <td>2.018236</td>\n",
              "      <td>9.218252</td>\n",
              "      <td>0.387298</td>\n",
              "      <td>27.540254</td>\n",
              "      <td>141.596866</td>\n",
              "    </tr>\n",
              "    <tr>\n",
              "      <th>min</th>\n",
              "      <td>0.000000</td>\n",
              "      <td>1.000000</td>\n",
              "      <td>0.000000</td>\n",
              "      <td>0.000000</td>\n",
              "      <td>0.000000</td>\n",
              "    </tr>\n",
              "    <tr>\n",
              "      <th>25%</th>\n",
              "      <td>1.000000</td>\n",
              "      <td>7.000000</td>\n",
              "      <td>1.000000</td>\n",
              "      <td>0.000000</td>\n",
              "      <td>5.000000</td>\n",
              "    </tr>\n",
              "    <tr>\n",
              "      <th>50%</th>\n",
              "      <td>3.000000</td>\n",
              "      <td>15.000000</td>\n",
              "      <td>1.000000</td>\n",
              "      <td>2.100000</td>\n",
              "      <td>52.000000</td>\n",
              "    </tr>\n",
              "    <tr>\n",
              "      <th>75%</th>\n",
              "      <td>5.000000</td>\n",
              "      <td>23.000000</td>\n",
              "      <td>1.000000</td>\n",
              "      <td>16.400000</td>\n",
              "      <td>238.000000</td>\n",
              "    </tr>\n",
              "    <tr>\n",
              "      <th>max</th>\n",
              "      <td>6.000000</td>\n",
              "      <td>31.000000</td>\n",
              "      <td>1.000000</td>\n",
              "      <td>170.600000</td>\n",
              "      <td>458.000000</td>\n",
              "    </tr>\n",
              "  </tbody>\n",
              "</table>\n",
              "</div>"
            ],
            "text/plain": [
              "             Hari     Tanggal    Kegiatan  Curah Hujan (mm)  Penjualan (pcs)\n",
              "count  121.000000  121.000000  121.000000        121.000000       121.000000\n",
              "mean     2.958678   15.123967    0.818182         14.259504       131.834711\n",
              "std      2.018236    9.218252    0.387298         27.540254       141.596866\n",
              "min      0.000000    1.000000    0.000000          0.000000         0.000000\n",
              "25%      1.000000    7.000000    1.000000          0.000000         5.000000\n",
              "50%      3.000000   15.000000    1.000000          2.100000        52.000000\n",
              "75%      5.000000   23.000000    1.000000         16.400000       238.000000\n",
              "max      6.000000   31.000000    1.000000        170.600000       458.000000"
            ]
          },
          "execution_count": 10,
          "metadata": {},
          "output_type": "execute_result"
        }
      ],
      "source": [
        "#Melihat statistical description dari data mulai dari mean, kuartil, standard deviation dll.\n",
        "df.describe()"
      ]
    },
    {
      "cell_type": "markdown",
      "id": "0a5331da",
      "metadata": {
        "papermill": {
          "duration": 0.031072,
          "end_time": "2021-09-16T13:10:08.603470",
          "exception": false,
          "start_time": "2021-09-16T13:10:08.572398",
          "status": "completed"
        },
        "tags": [],
        "id": "0a5331da"
      },
      "source": [
        "Karena ada data dalam bentuk float dan dalam bentuk int. jadi dilakukan manipulasi data, rubah data float menjadi int"
      ]
    },
    {
      "cell_type": "code",
      "execution_count": null,
      "id": "03187975",
      "metadata": {
        "execution": {
          "iopub.execute_input": "2021-09-16T13:10:08.673506Z",
          "iopub.status.busy": "2021-09-16T13:10:08.672834Z",
          "iopub.status.idle": "2021-09-16T13:10:08.674506Z",
          "shell.execute_reply": "2021-09-16T13:10:08.674979Z",
          "shell.execute_reply.started": "2021-09-16T12:44:46.856777Z"
        },
        "papermill": {
          "duration": 0.039361,
          "end_time": "2021-09-16T13:10:08.675159",
          "exception": false,
          "start_time": "2021-09-16T13:10:08.635798",
          "status": "completed"
        },
        "tags": [],
        "id": "03187975"
      },
      "outputs": [],
      "source": [
        "#Merubah tipe data dari bathrooms yang semula float menjadi int.\n",
        "df['Curah Hujan (mm)'] = df['Curah Hujan (mm)'].astype('int')"
      ]
    },
    {
      "cell_type": "markdown",
      "id": "2069181a",
      "metadata": {
        "papermill": {
          "duration": 0.031343,
          "end_time": "2021-09-16T13:10:08.738350",
          "exception": false,
          "start_time": "2021-09-16T13:10:08.707007",
          "status": "completed"
        },
        "tags": [],
        "id": "2069181a"
      },
      "source": [
        "Sebelum dilakukan analisis data juga perlu dilakukan tinjauan data Null (data yang tidak di isi kan ke dalam tabel)"
      ]
    },
    {
      "cell_type": "code",
      "execution_count": null,
      "id": "b50ef42d",
      "metadata": {
        "execution": {
          "iopub.execute_input": "2021-09-16T13:10:08.805590Z",
          "iopub.status.busy": "2021-09-16T13:10:08.804869Z",
          "iopub.status.idle": "2021-09-16T13:10:08.811387Z",
          "shell.execute_reply": "2021-09-16T13:10:08.811924Z",
          "shell.execute_reply.started": "2021-09-16T12:46:24.213179Z"
        },
        "papermill": {
          "duration": 0.041978,
          "end_time": "2021-09-16T13:10:08.812110",
          "exception": false,
          "start_time": "2021-09-16T13:10:08.770132",
          "status": "completed"
        },
        "tags": [],
        "id": "b50ef42d",
        "outputId": "f41e1139-afd6-40b5-ef3d-dadda4bfec78"
      },
      "outputs": [
        {
          "data": {
            "text/plain": [
              "Hari                0\n",
              "Tanggal             0\n",
              "Kegiatan            0\n",
              "Curah Hujan (mm)    0\n",
              "Penjualan (pcs)     0\n",
              "dtype: int64"
            ]
          },
          "execution_count": 12,
          "metadata": {},
          "output_type": "execute_result"
        }
      ],
      "source": [
        "#Mencari dan menangani missing values. Null\n",
        "df.isnull().sum()"
      ]
    },
    {
      "cell_type": "markdown",
      "id": "16a9e84e",
      "metadata": {
        "papermill": {
          "duration": 0.032909,
          "end_time": "2021-09-16T13:10:08.877604",
          "exception": false,
          "start_time": "2021-09-16T13:10:08.844695",
          "status": "completed"
        },
        "tags": [],
        "id": "16a9e84e"
      },
      "source": [
        "aman , sebab semua data terisi"
      ]
    },
    {
      "cell_type": "markdown",
      "id": "824080df",
      "metadata": {
        "papermill": {
          "duration": 0.032025,
          "end_time": "2021-09-16T13:10:08.941843",
          "exception": false,
          "start_time": "2021-09-16T13:10:08.909818",
          "status": "completed"
        },
        "tags": [],
        "id": "824080df"
      },
      "source": [
        "selanjutnya dilakukan eksplorasi di setiap kolom data"
      ]
    },
    {
      "cell_type": "code",
      "execution_count": null,
      "id": "7e3e50ea",
      "metadata": {
        "execution": {
          "iopub.execute_input": "2021-09-16T13:10:09.010484Z",
          "iopub.status.busy": "2021-09-16T13:10:09.009779Z",
          "iopub.status.idle": "2021-09-16T13:10:09.365371Z",
          "shell.execute_reply": "2021-09-16T13:10:09.365992Z",
          "shell.execute_reply.started": "2021-09-16T12:56:21.586298Z"
        },
        "papermill": {
          "duration": 0.391508,
          "end_time": "2021-09-16T13:10:09.366189",
          "exception": false,
          "start_time": "2021-09-16T13:10:08.974681",
          "status": "completed"
        },
        "tags": [],
        "id": "7e3e50ea",
        "outputId": "9848d6f9-ba26-4f4f-98fa-62a91e5fda4d"
      },
      "outputs": [
        {
          "name": "stderr",
          "output_type": "stream",
          "text": [
            "/opt/conda/lib/python3.7/site-packages/seaborn/_decorators.py:43: FutureWarning: Pass the following variable as a keyword arg: x. From version 0.12, the only valid positional argument will be `data`, and passing other arguments without an explicit keyword will result in an error or misinterpretation.\n",
            "  FutureWarning\n"
          ]
        },
        {
          "data": {
            "image/png": "[encoded data removed]",
            "text/plain": [
              "<Figure size 864x288 with 2 Axes>"
            ]
          },
          "metadata": {
            "needs_background": "light"
          },
          "output_type": "display_data"
        }
      ],
      "source": [
        "#melakukan Exploratory Data Hari kerja untuk dianalysis dan mengenal data lebih jauh\n",
        "\n",
        "f = plt.figure(figsize=(12,4))\n",
        "f.add_subplot(1,2,1)\n",
        "sns.countplot(df['Hari'])\n",
        "f.add_subplot(1,2,2)\n",
        "plt.boxplot(df['Hari'])\n",
        "plt.show()"
      ]
    },
    {
      "cell_type": "markdown",
      "id": "f2639ba9",
      "metadata": {
        "papermill": {
          "duration": 0.0324,
          "end_time": "2021-09-16T13:10:09.434166",
          "exception": false,
          "start_time": "2021-09-16T13:10:09.401766",
          "status": "completed"
        },
        "tags": [],
        "id": "f2639ba9"
      },
      "source": [
        "dari grafik di atas :\n",
        "- menunjukkan setiap hari dari senin-minggu bagian marketing selalu bekerja\n",
        "- senin-selasa lebih tinggi sedikit karena ada kelebihan data 2 hari data 0 dan 1 di akhir pengambilan data"
      ]
    },
    {
      "cell_type": "code",
      "execution_count": null,
      "id": "986a852d",
      "metadata": {
        "execution": {
          "iopub.execute_input": "2021-09-16T13:10:09.503710Z",
          "iopub.status.busy": "2021-09-16T13:10:09.502937Z",
          "iopub.status.idle": "2021-09-16T13:10:09.982899Z",
          "shell.execute_reply": "2021-09-16T13:10:09.983438Z",
          "shell.execute_reply.started": "2021-09-16T12:49:16.016207Z"
        },
        "papermill": {
          "duration": 0.516809,
          "end_time": "2021-09-16T13:10:09.983616",
          "exception": false,
          "start_time": "2021-09-16T13:10:09.466807",
          "status": "completed"
        },
        "tags": [],
        "id": "986a852d",
        "outputId": "c6ea8f34-14a5-4647-e6fe-f5aa44394907"
      },
      "outputs": [
        {
          "name": "stderr",
          "output_type": "stream",
          "text": [
            "/opt/conda/lib/python3.7/site-packages/seaborn/_decorators.py:43: FutureWarning: Pass the following variable as a keyword arg: x. From version 0.12, the only valid positional argument will be `data`, and passing other arguments without an explicit keyword will result in an error or misinterpretation.\n",
            "  FutureWarning\n"
          ]
        },
        {
          "data": {
            "image/png": "[encoded data removed]",
            "text/plain": [
              "<Figure size 864x288 with 2 Axes>"
            ]
          },
          "metadata": {
            "needs_background": "light"
          },
          "output_type": "display_data"
        }
      ],
      "source": [
        "#melakukan Exploratory Data Tanggal untuk dianalysis dan mengenal data lebih jauh\n",
        "\n",
        "f = plt.figure(figsize=(12,4))\n",
        "f.add_subplot(1,2,1)\n",
        "sns.countplot(df['Tanggal'])\n",
        "f.add_subplot(1,2,2)\n",
        "plt.boxplot(df['Tanggal'])\n",
        "plt.show()"
      ]
    },
    {
      "cell_type": "markdown",
      "id": "4241f3f6",
      "metadata": {
        "papermill": {
          "duration": 0.034297,
          "end_time": "2021-09-16T13:10:10.051963",
          "exception": false,
          "start_time": "2021-09-16T13:10:10.017666",
          "status": "completed"
        },
        "tags": [],
        "id": "4241f3f6"
      },
      "source": [
        "dari grafik di atas :\n",
        "tanggal 1 sampai dengan 8 lebih tinggi sedikit karena ada kelebihan data di akhir pengambilan data"
      ]
    },
    {
      "cell_type": "code",
      "execution_count": null,
      "id": "84002e5e",
      "metadata": {
        "execution": {
          "iopub.execute_input": "2021-09-16T13:10:10.124617Z",
          "iopub.status.busy": "2021-09-16T13:10:10.123918Z",
          "iopub.status.idle": "2021-09-16T13:10:10.389388Z",
          "shell.execute_reply": "2021-09-16T13:10:10.388867Z",
          "shell.execute_reply.started": "2021-09-16T12:53:27.910924Z"
        },
        "papermill": {
          "duration": 0.303426,
          "end_time": "2021-09-16T13:10:10.389548",
          "exception": false,
          "start_time": "2021-09-16T13:10:10.086122",
          "status": "completed"
        },
        "tags": [],
        "id": "84002e5e",
        "outputId": "58761a74-6f93-4ef8-ab49-24364c731bc3"
      },
      "outputs": [
        {
          "name": "stderr",
          "output_type": "stream",
          "text": [
            "/opt/conda/lib/python3.7/site-packages/seaborn/_decorators.py:43: FutureWarning: Pass the following variable as a keyword arg: x. From version 0.12, the only valid positional argument will be `data`, and passing other arguments without an explicit keyword will result in an error or misinterpretation.\n",
            "  FutureWarning\n"
          ]
        },
        {
          "data": {
            "image/png": "[encoded data removed]",
            "text/plain": [
              "<Figure size 864x288 with 2 Axes>"
            ]
          },
          "metadata": {
            "needs_background": "light"
          },
          "output_type": "display_data"
        }
      ],
      "source": [
        "#melakukan Exploratory Data Kegiatan untuk dianalysis dan mengenal data lebih jauh\n",
        "\n",
        "f = plt.figure(figsize=(12,4))\n",
        "f.add_subplot(1,2,1)\n",
        "sns.countplot(df['Kegiatan'])\n",
        "f.add_subplot(1,2,2)\n",
        "plt.boxplot(df['Kegiatan'])\n",
        "plt.show()"
      ]
    },
    {
      "cell_type": "markdown",
      "id": "4ec93ff0",
      "metadata": {
        "papermill": {
          "duration": 0.03488,
          "end_time": "2021-09-16T13:10:10.460361",
          "exception": false,
          "start_time": "2021-09-16T13:10:10.425481",
          "status": "completed"
        },
        "tags": [],
        "id": "4ec93ff0"
      },
      "source": [
        "grafik di atas menunjukkan bagian marketing memang lebih banyak berkegiatan selama diambil data"
      ]
    },
    {
      "cell_type": "code",
      "execution_count": null,
      "id": "6a06931d",
      "metadata": {
        "execution": {
          "iopub.execute_input": "2021-09-16T13:10:10.586125Z",
          "iopub.status.busy": "2021-09-16T13:10:10.582826Z",
          "iopub.status.idle": "2021-09-16T13:10:11.370284Z",
          "shell.execute_reply": "2021-09-16T13:10:11.369013Z",
          "shell.execute_reply.started": "2021-09-16T12:55:08.519594Z"
        },
        "papermill": {
          "duration": 0.87443,
          "end_time": "2021-09-16T13:10:11.370513",
          "exception": false,
          "start_time": "2021-09-16T13:10:10.496083",
          "status": "completed"
        },
        "tags": [],
        "id": "6a06931d",
        "outputId": "1fb1c4bc-264f-4269-85c9-23c7666c84d7"
      },
      "outputs": [
        {
          "name": "stderr",
          "output_type": "stream",
          "text": [
            "/opt/conda/lib/python3.7/site-packages/seaborn/_decorators.py:43: FutureWarning: Pass the following variable as a keyword arg: x. From version 0.12, the only valid positional argument will be `data`, and passing other arguments without an explicit keyword will result in an error or misinterpretation.\n",
            "  FutureWarning\n"
          ]
        },
        {
          "data": {
            "image/png": "[encoded data removed]",
            "text/plain": [
              "<Figure size 3600x1800 with 2 Axes>"
            ]
          },
          "metadata": {
            "needs_background": "light"
          },
          "output_type": "display_data"
        }
      ],
      "source": [
        "#melakukan Exploratory Data Curah Hujan untuk dianalysis dan mengenal data lebih jauh\n",
        "\n",
        "f = plt.figure(figsize=(50,25))\n",
        "f.add_subplot(1,2,1)\n",
        "sns.countplot(df['Curah Hujan (mm)'])\n",
        "f.add_subplot(1,2,2)\n",
        "plt.boxplot(df['Curah Hujan (mm)'])\n",
        "plt.show()"
      ]
    },
    {
      "cell_type": "markdown",
      "id": "d76ea7ed",
      "metadata": {
        "papermill": {
          "duration": 0.047694,
          "end_time": "2021-09-16T13:10:11.461114",
          "exception": false,
          "start_time": "2021-09-16T13:10:11.413420",
          "status": "completed"
        },
        "tags": [],
        "id": "d76ea7ed"
      },
      "source": [
        "grafik di atas menunjukkan curah hujan cukup aman untuk kegiatan marketing karena intesitas hujan rendah lebih banyak"
      ]
    },
    {
      "cell_type": "code",
      "execution_count": null,
      "id": "8daea038",
      "metadata": {
        "execution": {
          "iopub.execute_input": "2021-09-16T13:10:11.575057Z",
          "iopub.status.busy": "2021-09-16T13:10:11.574204Z",
          "iopub.status.idle": "2021-09-16T13:10:11.893963Z",
          "shell.execute_reply": "2021-09-16T13:10:11.894739Z",
          "shell.execute_reply.started": "2021-09-16T12:58:39.755680Z"
        },
        "papermill": {
          "duration": 0.391492,
          "end_time": "2021-09-16T13:10:11.895016",
          "exception": false,
          "start_time": "2021-09-16T13:10:11.503524",
          "status": "completed"
        },
        "tags": [],
        "id": "8daea038",
        "outputId": "18a57fbc-ea5a-40a7-8f35-beae59420497"
      },
      "outputs": [
        {
          "data": {
            "image/png": "[encoded data removed]",
            "text/plain": [
              "<Figure size 864x288 with 2 Axes>"
            ]
          },
          "metadata": {
            "needs_background": "light"
          },
          "output_type": "display_data"
        }
      ],
      "source": [
        "#melakukan Exploratory Data Penjualan untuk dianalysis dan mengenal data lebih jauh\n",
        "\n",
        "f = plt.figure(figsize=(12,4))\n",
        "f.add_subplot(1,2,1)\n",
        "df['Penjualan (pcs)'].plot(kind='kde')\n",
        "f.add_subplot(1,2,2)\n",
        "plt.boxplot(df['Penjualan (pcs)'])\n",
        "plt.show()"
      ]
    },
    {
      "cell_type": "markdown",
      "id": "86d6d87c",
      "metadata": {
        "papermill": {
          "duration": 0.037199,
          "end_time": "2021-09-16T13:10:11.978063",
          "exception": false,
          "start_time": "2021-09-16T13:10:11.940864",
          "status": "completed"
        },
        "tags": [],
        "id": "86d6d87c"
      },
      "source": [
        "dari grafik di atas hasil density distribusi dari penjualan banyak terjadi di 0-130 an  "
      ]
    },
    {
      "cell_type": "code",
      "execution_count": null,
      "id": "f5d7c320",
      "metadata": {
        "execution": {
          "iopub.execute_input": "2021-09-16T13:10:12.064811Z",
          "iopub.status.busy": "2021-09-16T13:10:12.063617Z",
          "iopub.status.idle": "2021-09-16T13:10:12.985848Z",
          "shell.execute_reply": "2021-09-16T13:10:12.986303Z",
          "shell.execute_reply.started": "2021-09-16T13:00:20.867384Z"
        },
        "papermill": {
          "duration": 0.966105,
          "end_time": "2021-09-16T13:10:12.986502",
          "exception": false,
          "start_time": "2021-09-16T13:10:12.020397",
          "status": "completed"
        },
        "tags": [],
        "id": "f5d7c320",
        "outputId": "61ce106f-11aa-4cac-8cba-6c8ec650acf7"
      },
      "outputs": [
        {
          "name": "stderr",
          "output_type": "stream",
          "text": [
            "/opt/conda/lib/python3.7/site-packages/seaborn/axisgrid.py:2076: UserWarning: The `size` parameter has been renamed to `height`; please update your code.\n",
            "  warnings.warn(msg, UserWarning)\n"
          ]
        },
        {
          "data": {
            "text/plain": [
              "<seaborn.axisgrid.PairGrid at 0x7f22f0ea9a90>"
            ]
          },
          "execution_count": 18,
          "metadata": {},
          "output_type": "execute_result"
        },
        {
          "data": {
            "text/plain": [
              "<Figure size 720x576 with 0 Axes>"
            ]
          },
          "metadata": {},
          "output_type": "display_data"
        },
        {
          "data": {
            "image/png": "[encoded data removed]",
            "text/plain": [
              "<Figure size 1080x360 with 4 Axes>"
            ]
          },
          "metadata": {
            "needs_background": "light"
          },
          "output_type": "display_data"
        }
      ],
      "source": [
        "#menganalysis variasi antara independent variable dan dependent variable.\n",
        "\n",
        "plt.figure(figsize=(10,8))\n",
        "sns.pairplot(data=df, x_vars=['Hari', 'Tanggal', 'Kegiatan', 'Curah Hujan (mm)'], y_vars=['Penjualan (pcs)'], size=5, aspect=0.75)"
      ]
    },
    {
      "cell_type": "markdown",
      "id": "798ec475",
      "metadata": {
        "papermill": {
          "duration": 0.042477,
          "end_time": "2021-09-16T13:10:13.070445",
          "exception": false,
          "start_time": "2021-09-16T13:10:13.027968",
          "status": "completed"
        },
        "tags": [],
        "id": "798ec475"
      },
      "source": [
        "dari grafik di atas :\n",
        "- penjualan dengan jumlah tinggi terjadi di hari selasa/1, rabu/2, kamis/3, jumat/4, dan minggu/6\n",
        "\n",
        "- puncak hasil penjulan terjadi di tanggal 1 s/d 5 (awal bulan)\n",
        "\n",
        "- penjualan tinggi terjadi ketika curah hujan cukup rendah"
      ]
    },
    {
      "cell_type": "code",
      "execution_count": null,
      "id": "14a707f9",
      "metadata": {
        "execution": {
          "iopub.execute_input": "2021-09-16T13:10:13.163576Z",
          "iopub.status.busy": "2021-09-16T13:10:13.162465Z",
          "iopub.status.idle": "2021-09-16T13:10:13.249642Z",
          "shell.execute_reply": "2021-09-16T13:10:13.248712Z",
          "shell.execute_reply.started": "2021-09-16T13:02:05.711366Z"
        },
        "papermill": {
          "duration": 0.134889,
          "end_time": "2021-09-16T13:10:13.249837",
          "exception": false,
          "start_time": "2021-09-16T13:10:13.114948",
          "status": "completed"
        },
        "tags": [],
        "id": "14a707f9",
        "outputId": "90f79d70-133f-4d8e-b4df-91e8f55206f7"
      },
      "outputs": [
        {
          "name": "stderr",
          "output_type": "stream",
          "text": [
            "/opt/conda/lib/python3.7/site-packages/ipykernel_launcher.py:2: FutureWarning: this method is deprecated in favour of `Styler.format(precision=..)`\n",
            "  \n"
          ]
        },
        {
          "data": {
            "text/html": [
              "<style type=\"text/css\">\n",
              "#T_3bf2d_row0_col0, #T_3bf2d_row1_col1, #T_3bf2d_row2_col2, #T_3bf2d_row3_col3, #T_3bf2d_row4_col4 {\n",
              "  background-color: #023858;\n",
              "  color: #f1f1f1;\n",
              "}\n",
              "#T_3bf2d_row0_col1, #T_3bf2d_row0_col3, #T_3bf2d_row1_col4, #T_3bf2d_row3_col0, #T_3bf2d_row3_col2 {\n",
              "  background-color: #fff7fb;\n",
              "  color: #000000;\n",
              "}\n",
              "#T_3bf2d_row0_col2 {\n",
              "  background-color: #62a2cb;\n",
              "  color: #f1f1f1;\n",
              "}\n",
              "#T_3bf2d_row0_col4 {\n",
              "  background-color: #f8f1f8;\n",
              "  color: #000000;\n",
              "}\n",
              "#T_3bf2d_row1_col0 {\n",
              "  background-color: #fbf4f9;\n",
              "  color: #000000;\n",
              "}\n",
              "#T_3bf2d_row1_col2 {\n",
              "  background-color: #f7f0f7;\n",
              "  color: #000000;\n",
              "}\n",
              "#T_3bf2d_row1_col3 {\n",
              "  background-color: #ede8f3;\n",
              "  color: #000000;\n",
              "}\n",
              "#T_3bf2d_row2_col0 {\n",
              "  background-color: #589ec8;\n",
              "  color: #f1f1f1;\n",
              "}\n",
              "#T_3bf2d_row2_col1 {\n",
              "  background-color: #f5eef6;\n",
              "  color: #000000;\n",
              "}\n",
              "#T_3bf2d_row2_col3 {\n",
              "  background-color: #f9f2f8;\n",
              "  color: #000000;\n",
              "}\n",
              "#T_3bf2d_row2_col4 {\n",
              "  background-color: #c4cbe3;\n",
              "  color: #000000;\n",
              "}\n",
              "#T_3bf2d_row3_col1 {\n",
              "  background-color: #f0eaf4;\n",
              "  color: #000000;\n",
              "}\n",
              "#T_3bf2d_row3_col4 {\n",
              "  background-color: #dfddec;\n",
              "  color: #000000;\n",
              "}\n",
              "#T_3bf2d_row4_col0 {\n",
              "  background-color: #e6e2ef;\n",
              "  color: #000000;\n",
              "}\n",
              "#T_3bf2d_row4_col1 {\n",
              "  background-color: #f2ecf5;\n",
              "  color: #000000;\n",
              "}\n",
              "#T_3bf2d_row4_col2 {\n",
              "  background-color: #b3c3de;\n",
              "  color: #000000;\n",
              "}\n",
              "#T_3bf2d_row4_col3 {\n",
              "  background-color: #c8cde4;\n",
              "  color: #000000;\n",
              "}\n",
              "</style>\n",
              "<table id=\"T_3bf2d_\">\n",
              "  <thead>\n",
              "    <tr>\n",
              "      <th class=\"blank level0\" >&nbsp;</th>\n",
              "      <th class=\"col_heading level0 col0\" >Hari</th>\n",
              "      <th class=\"col_heading level0 col1\" >Tanggal</th>\n",
              "      <th class=\"col_heading level0 col2\" >Kegiatan</th>\n",
              "      <th class=\"col_heading level0 col3\" >Curah Hujan (mm)</th>\n",
              "      <th class=\"col_heading level0 col4\" >Penjualan (pcs)</th>\n",
              "    </tr>\n",
              "  </thead>\n",
              "  <tbody>\n",
              "    <tr>\n",
              "      <th id=\"T_3bf2d_level0_row0\" class=\"row_heading level0 row0\" >Hari</th>\n",
              "      <td id=\"T_3bf2d_row0_col0\" class=\"data row0 col0\" >1.00</td>\n",
              "      <td id=\"T_3bf2d_row0_col1\" class=\"data row0 col1\" >-0.00</td>\n",
              "      <td id=\"T_3bf2d_row0_col2\" class=\"data row0 col2\" >0.54</td>\n",
              "      <td id=\"T_3bf2d_row0_col3\" class=\"data row0 col3\" >-0.03</td>\n",
              "      <td id=\"T_3bf2d_row0_col4\" class=\"data row0 col4\" >0.13</td>\n",
              "    </tr>\n",
              "    <tr>\n",
              "      <th id=\"T_3bf2d_level0_row1\" class=\"row_heading level0 row1\" >Tanggal</th>\n",
              "      <td id=\"T_3bf2d_row1_col0\" class=\"data row1 col0\" >-0.00</td>\n",
              "      <td id=\"T_3bf2d_row1_col1\" class=\"data row1 col1\" >1.00</td>\n",
              "      <td id=\"T_3bf2d_row1_col2\" class=\"data row1 col2\" >0.07</td>\n",
              "      <td id=\"T_3bf2d_row1_col3\" class=\"data row1 col3\" >0.10</td>\n",
              "      <td id=\"T_3bf2d_row1_col4\" class=\"data row1 col4\" >0.09</td>\n",
              "    </tr>\n",
              "    <tr>\n",
              "      <th id=\"T_3bf2d_level0_row2\" class=\"row_heading level0 row2\" >Kegiatan</th>\n",
              "      <td id=\"T_3bf2d_row2_col0\" class=\"data row2 col0\" >0.54</td>\n",
              "      <td id=\"T_3bf2d_row2_col1\" class=\"data row2 col1\" >0.07</td>\n",
              "      <td id=\"T_3bf2d_row2_col2\" class=\"data row2 col2\" >1.00</td>\n",
              "      <td id=\"T_3bf2d_row2_col3\" class=\"data row2 col3\" >0.01</td>\n",
              "      <td id=\"T_3bf2d_row2_col4\" class=\"data row2 col4\" >0.35</td>\n",
              "    </tr>\n",
              "    <tr>\n",
              "      <th id=\"T_3bf2d_level0_row3\" class=\"row_heading level0 row3\" >Curah Hujan (mm)</th>\n",
              "      <td id=\"T_3bf2d_row3_col0\" class=\"data row3 col0\" >-0.03</td>\n",
              "      <td id=\"T_3bf2d_row3_col1\" class=\"data row3 col1\" >0.10</td>\n",
              "      <td id=\"T_3bf2d_row3_col2\" class=\"data row3 col2\" >0.01</td>\n",
              "      <td id=\"T_3bf2d_row3_col3\" class=\"data row3 col3\" >1.00</td>\n",
              "      <td id=\"T_3bf2d_row3_col4\" class=\"data row3 col4\" >0.26</td>\n",
              "    </tr>\n",
              "    <tr>\n",
              "      <th id=\"T_3bf2d_level0_row4\" class=\"row_heading level0 row4\" >Penjualan (pcs)</th>\n",
              "      <td id=\"T_3bf2d_row4_col0\" class=\"data row4 col0\" >0.13</td>\n",
              "      <td id=\"T_3bf2d_row4_col1\" class=\"data row4 col1\" >0.09</td>\n",
              "      <td id=\"T_3bf2d_row4_col2\" class=\"data row4 col2\" >0.35</td>\n",
              "      <td id=\"T_3bf2d_row4_col3\" class=\"data row4 col3\" >0.26</td>\n",
              "      <td id=\"T_3bf2d_row4_col4\" class=\"data row4 col4\" >1.00</td>\n",
              "    </tr>\n",
              "  </tbody>\n",
              "</table>\n"
            ],
            "text/plain": [
              "<pandas.io.formats.style.Styler at 0x7f22f08f99d0>"
            ]
          },
          "execution_count": 19,
          "metadata": {},
          "output_type": "execute_result"
        }
      ],
      "source": [
        "#Mengetahui nilai korelasi dari independent variable dan dependent variable.\n",
        "df.corr().style.background_gradient().set_precision(2)"
      ]
    },
    {
      "cell_type": "markdown",
      "id": "cfb4da77",
      "metadata": {
        "papermill": {
          "duration": 0.042457,
          "end_time": "2021-09-16T13:10:13.334067",
          "exception": false,
          "start_time": "2021-09-16T13:10:13.291610",
          "status": "completed"
        },
        "tags": [],
        "id": "cfb4da77"
      },
      "source": [
        "Dari tabel korelasi dan gambar pairplot, dapat dilihat bahwa :\n",
        "- hari sangat memiliki hubungan yang lebih erat terhadap kegiatan marketing (0,53)\n",
        "- kegiatan marketing memiliki hubungan yang erat terhadap penjualan (0,35)\n",
        "- Curah hujan memiliki hubungan yang erat terhadap penjualan (0,26)\n",
        "\n",
        "- hari dan tanggal tidak ada hubungan sama sekali karena nilainya 0\n",
        "- hari dan curah hujan tidak ada hubungan sama sekali karena nilainya sangat kecil -0,03"
      ]
    },
    {
      "cell_type": "code",
      "execution_count": null,
      "id": "186e1153",
      "metadata": {
        "execution": {
          "iopub.execute_input": "2021-09-16T13:10:13.437261Z",
          "iopub.status.busy": "2021-09-16T13:10:13.436300Z",
          "iopub.status.idle": "2021-09-16T13:10:13.439983Z",
          "shell.execute_reply": "2021-09-16T13:10:13.440733Z",
          "shell.execute_reply.started": "2021-09-16T13:05:33.335441Z"
        },
        "papermill": {
          "duration": 0.066257,
          "end_time": "2021-09-16T13:10:13.440981",
          "exception": false,
          "start_time": "2021-09-16T13:10:13.374724",
          "status": "completed"
        },
        "tags": [],
        "id": "186e1153",
        "outputId": "148a622f-5bf0-4004-b3e7-4bcfbc7b81ce"
      },
      "outputs": [
        {
          "name": "stdout",
          "output_type": "stream",
          "text": [
            "[ -7.56542585   0.58533328 159.53212741   1.02231269]\n",
            "3.193040368908555\n"
          ]
        }
      ],
      "source": [
        "#tahap pemodelan data\n",
        "#Pertama, buat variabel x dan y.\n",
        "x = df.drop(columns='Penjualan (pcs)')\n",
        "y = df['Penjualan (pcs)']\n",
        "\n",
        "#Kedua, split data menjadi training and testing dengan porsi 80:20.\n",
        "x_train, x_test, y_train, y_test = train_test_split(x, y, test_size=0.2, random_state=4)\n",
        "\n",
        "#Ketiga, membuat object linear regresi.\n",
        "lin_reg = LinearRegression()\n",
        "\n",
        "#Keempat, train the model menggunakan training data yang sudah displit.\n",
        "lin_reg.fit(x_train, y_train)\n",
        "\n",
        "#Kelima, cari tau nilai slope/koefisien (m) dan intercept (b).\n",
        "print(lin_reg.coef_)\n",
        "print(lin_reg.intercept_)"
      ]
    },
    {
      "cell_type": "markdown",
      "id": "f1c2dffb",
      "metadata": {
        "papermill": {
          "duration": 0.042909,
          "end_time": "2021-09-16T13:10:13.528069",
          "exception": false,
          "start_time": "2021-09-16T13:10:13.485160",
          "status": "completed"
        },
        "tags": [],
        "id": "f1c2dffb"
      },
      "source": [
        "   dari hasil perhitungan koefisien di atas jika dibuat dalam rumus akan menjadi seperti ini\n",
        "\n",
        "   Y = b + e + m1*x1 + m2*x2 + … + mn*xn\n",
        "\n",
        "   Y = dependent variable\n",
        "   mn = koefisien dari persamaan\n",
        "   xn = independent variable\n",
        "   b = intercept\n",
        "   e = error\n",
        "\n",
        "   jika semua hasil hitung koefisien dimasukan dalam rumus\n",
        "\n",
        "   Y = -7.56542585 X1 + 0.58533328 X2 + 159.53212741 X3 + 1.02231269 X4 + 3.193040368909408"
      ]
    },
    {
      "cell_type": "code",
      "execution_count": null,
      "id": "5a464fa6",
      "metadata": {
        "execution": {
          "iopub.execute_input": "2021-09-16T13:10:13.623640Z",
          "iopub.status.busy": "2021-09-16T13:10:13.622684Z",
          "iopub.status.idle": "2021-09-16T13:10:13.627228Z",
          "shell.execute_reply": "2021-09-16T13:10:13.626612Z",
          "shell.execute_reply.started": "2021-09-16T13:06:40.744155Z"
        },
        "papermill": {
          "duration": 0.056551,
          "end_time": "2021-09-16T13:10:13.627382",
          "exception": false,
          "start_time": "2021-09-16T13:10:13.570831",
          "status": "completed"
        },
        "tags": [],
        "id": "5a464fa6",
        "outputId": "b795255d-3613-481a-b0f8-351a71e52179"
      },
      "outputs": [
        {
          "data": {
            "text/plain": [
              "0.1040440882431356"
            ]
          },
          "execution_count": 21,
          "metadata": {},
          "output_type": "execute_result"
        }
      ],
      "source": [
        "#mencari tahu accuracy score dari model menggunakan testing data yang sudah displit.\n",
        "lin_reg.score(x_test, y_test)"
      ]
    },
    {
      "cell_type": "markdown",
      "id": "0590fb3e",
      "metadata": {
        "papermill": {
          "duration": 0.043409,
          "end_time": "2021-09-16T13:10:13.713012",
          "exception": false,
          "start_time": "2021-09-16T13:10:13.669603",
          "status": "completed"
        },
        "tags": [],
        "id": "0590fb3e"
      },
      "source": [
        "Model Machine Learning mendapatkan accuracy score sebesar 10.4%\n",
        "\n",
        "nilai yang sangat rendah\n",
        "masih butuh banyak koreksi"
      ]
    },
    {
      "cell_type": "code",
      "execution_count": null,
      "id": "80e13dab",
      "metadata": {
        "execution": {
          "iopub.execute_input": "2021-09-16T13:10:13.804025Z",
          "iopub.status.busy": "2021-09-16T13:10:13.802935Z",
          "iopub.status.idle": "2021-09-16T13:10:13.806953Z",
          "shell.execute_reply": "2021-09-16T13:10:13.806259Z",
          "shell.execute_reply.started": "2021-09-16T13:07:31.890089Z"
        },
        "papermill": {
          "duration": 0.052002,
          "end_time": "2021-09-16T13:10:13.807108",
          "exception": false,
          "start_time": "2021-09-16T13:10:13.755106",
          "status": "completed"
        },
        "tags": [],
        "id": "80e13dab",
        "outputId": "25f608ee-9e85-45f7-c7b7-db90c03cc8b7"
      },
      "outputs": [
        {
          "data": {
            "text/plain": [
              "array([163.31050106])"
            ]
          },
          "execution_count": 22,
          "metadata": {},
          "output_type": "execute_result"
        }
      ],
      "source": [
        "#Langkah terakhir adalah melakukan prediksi terhadap hasil penjualan paling optimal\n",
        "#saya mencoba membuat KPI sesuai yang saya inginkan yaitu\n",
        "#penjualan di hari pertama dan di minggu pertama dan tidak ada hujan\n",
        "\n",
        "#hari         = 0\n",
        "#Tanggal      = 1\n",
        "#Kegiatan     = 1\n",
        "#Curah Hujan  = 0\n",
        "\n",
        "#Prediksi hasil penjualan paling optimal.\n",
        "lin_reg.predict([[0,1,1,0]])"
      ]
    },
    {
      "cell_type": "markdown",
      "source": [
        "https://www.kaggle.com/code/mochmunirulichsan/multiple-linear-regression-dataset-penjualan/notebook (Sitasi)"
      ],
      "metadata": {
        "id": "igAeMep_u7_n"
      },
      "id": "igAeMep_u7_n"
    }
  ],
  "metadata": {
    "kernelspec": {
      "display_name": "Python 3",
      "language": "python",
      "name": "python3"
    },
    "language_info": {
      "codemirror_mode": {
        "name": "ipython",
        "version": 3
      },
      "file_extension": ".py",
      "mimetype": "text/x-python",
      "name": "python",
      "nbconvert_exporter": "python",
      "pygments_lexer": "ipython3",
      "version": "3.7.10"
    },
    "papermill": {
      "default_parameters": {},
      "duration": 27.733068,
      "end_time": "2021-09-16T13:10:14.661610",
      "environment_variables": {},
      "exception": null,
      "input_path": "__notebook__.ipynb",
      "output_path": "__notebook__.ipynb",
      "parameters": {},
      "start_time": "2021-09-16T13:09:46.928542",
      "version": "2.3.3"
    },
    "colab": {
      "provenance": []
    }
  },
  "nbformat": 4,
  "nbformat_minor": 5
}